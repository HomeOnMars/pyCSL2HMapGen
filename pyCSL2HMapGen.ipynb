{
 "cells": [
  {
   "cell_type": "code",
   "execution_count": 1,
   "id": "dfcf44a2-a8b0-4e72-8d4b-de5a283844e7",
   "metadata": {},
   "outputs": [
    {
     "data": {
      "text/plain": [
       "'A simple script to extract & interpolate CSL2 height map from JAXA:AW3D30 data files.\\n\\nAuthor: HomeOnMars\\n'"
      ]
     },
     "execution_count": 1,
     "metadata": {},
     "output_type": "execute_result"
    }
   ],
   "source": [
    "\"\"\"A simple script to extract & interpolate CSL2 height map from JAXA:AW3D30 data files.\n",
    "\n",
    "Author: HomeOnMars\n",
    "\"\"\""
   ]
  },
  {
   "cell_type": "markdown",
   "id": "264294f2-e32c-4f1f-9074-9fec12dbd307",
   "metadata": {},
   "source": [
    "# Functions"
   ]
  },
  {
   "cell_type": "code",
   "execution_count": 2,
   "id": "df04b7e8-7288-4f36-b309-bbb9fc4c25da",
   "metadata": {},
   "outputs": [],
   "source": [
    "# importing\n",
    "\n",
    "\n",
    "# my modules\n",
    "import pycslhmap as pchm\n",
    "#from pyhomhmap import get_CSL_height_maps\n",
    "\n",
    "\n",
    "# other modules\n",
    "from datetime import datetime, UTC\n",
    "\n",
    "def now():\n",
    "    return datetime.now(UTC)"
   ]
  },
  {
   "cell_type": "markdown",
   "id": "1aac13bc-50e5-4067-8c51-3f6569ceaecf",
   "metadata": {},
   "source": [
    "# Examples"
   ]
  },
  {
   "cell_type": "code",
   "execution_count": 3,
   "id": "2cfbe904-275e-48bc-8c22-4f7d7fe9d520",
   "metadata": {},
   "outputs": [
    {
     "name": "stdout",
     "output_type": "stream",
     "text": [
      "\n",
      "\tWorld map size (64.512 km)^2\n",
      "Reading data from file raw/ALPSMLC30_N063W017_DSM.tif... Hit (  9.50%).\n",
      "Reading data from file raw/ALPSMLC30_N064W016_DSM.tif... Hit ( 44.10%).\n",
      "Reading data from file raw/ALPSMLC30_N064W017_DSM.tif... Hit ( 40.43%).\n",
      "Total  94.03% of the map has been covered.\n",
      "*** Warning: a large portion of the map (  5.97%) hasn't been covered by interpolation. Please consider download and add more map tiles data.\n",
      "Smoothing... Done.\n",
      "\tmaximum height = 1847.5051666931968\n",
      "\tCenter point at longtitude 344.0, latitude 64.185\n",
      " \tWorld Map longitude range from    343.088 to    344.905\n",
      " \t          latitude  range from   +63.7893 to   +64.5807\n",
      "\tSmoothing Kernel radius 32.00 pixel (shore), 1.00 pixel (all)\n",
      "Saving to ./out/worldmap_long344.000_lati+64.185_angle030.0_scale1.12+1.00.png\n",
      "\n",
      "\tPlayable map size (16.128 km)^2\n",
      "Using data from file raw/ALPSMLC30_N063W017_DSM.tif... Missed.\n",
      "Using data from file raw/ALPSMLC30_N064W016_DSM.tif... Hit ( 50.00%).\n",
      "Using data from file raw/ALPSMLC30_N064W017_DSM.tif... Hit ( 49.81%).\n",
      "Total  99.81% of the map has been covered.\n",
      "Smoothing... Done.\n",
      "\tmaximum height = 1619.009120783727\n",
      "\tSmoothing Kernel radius 128.00 pixel (shore), 4.00 pixel (all)\n",
      "Saving to ./out/playable_long344.000_lati+64.185_angle030.0_scale1.12+1.00.png\n",
      "\n",
      "\tAll Done.\n",
      "\n",
      "Time Used: 0:01:10.388621\n",
      "\n"
     ]
    }
   ],
   "source": [
    "if __name__ == '__main__':\n",
    "\n",
    "    verbose = True\n",
    "    \n",
    "    if verbose:\n",
    "        # record used time\n",
    "        time_start = now()\n",
    "        #print(f\"Start: {time_start.isoformat()}\")\n",
    "\n",
    "    \n",
    "    \n",
    "    # Example 1 - extrapolate data from tiff to CSL2-compatible \n",
    "\n",
    "    \n",
    "    \n",
    "    # download the relevant data from https://www.eorc.jaxa.jp/ALOS/en/dataset/aw3d_e.htm\n",
    "    #    (or some other sources, I don't care)\n",
    "    #    If you download from JAXA, you will need to register an account and read their terms of service\n",
    "    #    after downloading, put them in the ./raw/ folder, and supply the file path (incl. file name) here\n",
    "    #    they will be used to interpolate the elevations in the respective areas of the image.\n",
    "    #    if you see a patch of the image is constant at minimal height-1,\n",
    "    #    then you haven't downloaded & added the data of that patch. Probably.\n",
    "    tiffilenames = [                # path of the raw data files, downloaded from JAXA or elsewhere\n",
    "        'raw/ALPSMLC30_N063W017_DSM.tif',\n",
    "        'raw/ALPSMLC30_N064W016_DSM.tif',\n",
    "        'raw/ALPSMLC30_N064W017_DSM.tif',\n",
    "    ]\n",
    "\n",
    "    # the following function will do the job\n",
    "    img_arr, coord = pchm.get_CSL_height_maps(\n",
    "        long=-16.000, lati=+64.185, # longitude and latitude in degrees\n",
    "        angle_deg=30.,              # the angle for the map to be rotated (in degrees)\n",
    "        tiffilenames=tiffilenames,\n",
    "        map_scales=(1.125, 1.0),    # scale factor-  e.g. map_scales=(1.5, 1.2) means\n",
    "                                    #    stretching the width of the map to 1:1.5\n",
    "                                    #    (i.e. mapping real world 1.5*57.344km to game 57.344km)\n",
    "                                    #    while stretching the heights to 1:1.2\n",
    "        out_filepath='./out/',      # output file folder path\n",
    "        verbose=verbose)\n",
    "\n",
    "\n",
    "    \n",
    "    if verbose:\n",
    "        # record used time\n",
    "        time_ended = now()\n",
    "        time_used  = time_ended - time_start\n",
    "        print(\n",
    "            #f\"Ended: {time_ended.isoformat()}\\n\" +\n",
    "            f\"Time Used: {time_used}\\n\"\n",
    "        )\n"
   ]
  },
  {
   "cell_type": "markdown",
   "id": "1420c0f8-77f3-42c4-9367-023e0d135193",
   "metadata": {},
   "source": [
    "# Manuals"
   ]
  },
  {
   "cell_type": "code",
   "execution_count": 4,
   "id": "4d5fe095-cbe6-4d93-8c40-efaf1fce741f",
   "metadata": {},
   "outputs": [
    {
     "name": "stdout",
     "output_type": "stream",
     "text": [
      "Help on function get_CSL_height_maps in module pyhomhmap.import_hmap:\n",
      "\n",
      "get_CSL_height_maps(long: float, lati: float, tiffilenames: tuple[str], cityname: str = None, angle_deg: float = 0.0, map_scales: float | tuple[float, float] = 1.0, height_scale: float = 4096.0, min_height_m: int = 100, ocean_height: int = 50, smooth_shore_rad_m: float = 448.0, smooth_rad_m: float = 14.0, interp_method: str = 'linear', opened_data: dict = {'raw/ALPSMLC30_N063W017_DSM.tif': <scipy.interpolate._rgi.RegularGridInterpolator object at 0x7f449c9d51c0>, 'raw/ALPSMLC30_N064W016_DSM.tif': <scipy.interpolate._rgi.RegularGridInterpolator object at 0x7f449e8182f0>, 'raw/ALPSMLC30_N064W017_DSM.tif': <scipy.interpolate._rgi.RegularGridInterpolator object at 0x7f449d5169c0>}, Rearth_km: float = 6378.1, out_filepath: None | str = './out/', verbose: bool = True)\n",
      "    Wrapper function to extract height map from data and save them to disk.\n",
      "\n",
      "    angle_deg: float\n",
      "        how many degrees we are rotating the map counter-clockwise.\n",
      "\n",
      "    map_scales: float | tuple[float, float]\n",
      "        map_scales = real world size / game map size\n",
      "        if tuple, it should be in format of (width scale, height scale).\n",
      "\n",
      "    min_height_m: int\n",
      "        Minimum height for *NON-OCEAN* area, in meters. Must >= 1.\n",
      "        The ocean area will still have an height of ocean_height.\n",
      "\n",
      "    smooth_shore_rad_m: float\n",
      "        size of the smoothing kernel in in-sgame meters (using gaussian_filter), for shorelines.\n",
      "        The function will first smooth the shoreline with this (smooth_shore_rad_m),\n",
      "            then go through the smooth kernel again for the whole map using smooth_rad_m.\n",
      "\n",
      "    smooth_rad_m: float\n",
      "        size of the smoothing kernel in in-game meters (using gaussian_filter).\n",
      "        Set to 0 to disable this.\n",
      "\n",
      "    out_filepath: None|str\n",
      "        Provide this to output the result to the specified folder.\n",
      "\n",
      "    Rearth_km: float\n",
      "        Earth radius in real-world km.\n",
      "        Do NOT change this unless you are generating a map of Mars or something.\n",
      "\n"
     ]
    }
   ],
   "source": [
    "if __name__ == '__main__':\n",
    "    help(pchm.get_CSL_height_maps)"
   ]
  },
  {
   "cell_type": "code",
   "execution_count": null,
   "id": "7eeaccd1-1934-43bd-b1a2-17eed41f65d0",
   "metadata": {},
   "outputs": [],
   "source": []
  }
 ],
 "metadata": {
  "kernelspec": {
   "display_name": "Python 3 (ipykernel)",
   "language": "python",
   "name": "python3"
  },
  "language_info": {
   "codemirror_mode": {
    "name": "ipython",
    "version": 3
   },
   "file_extension": ".py",
   "mimetype": "text/x-python",
   "name": "python",
   "nbconvert_exporter": "python",
   "pygments_lexer": "ipython3",
   "version": "3.12.4"
  }
 },
 "nbformat": 4,
 "nbformat_minor": 5
}
